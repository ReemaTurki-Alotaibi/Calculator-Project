{
  "nbformat": 4,
  "nbformat_minor": 0,
  "metadata": {
    "colab": {
      "provenance": []
    },
    "kernelspec": {
      "name": "python3",
      "display_name": "Python 3"
    },
    "language_info": {
      "name": "python"
    }
  },
  "cells": [
    {
      "cell_type": "code",
      "execution_count": 1,
      "metadata": {
        "colab": {
          "base_uri": "https://localhost:8080/"
        },
        "id": "PzxswdlvQgjf",
        "outputId": "f821258a-ecfa-4d4a-a8fe-d251b58dd19c"
      },
      "outputs": [
        {
          "output_type": "stream",
          "name": "stdout",
          "text": [
            "All tests passed!\n"
          ]
        }
      ],
      "source": [
        "# Calculator Functions\n",
        "def add(x, y):\n",
        "    return x + y\n",
        "\n",
        "def subtract(x, y):\n",
        "    return x - y\n",
        "\n",
        "def multiply(x, y):\n",
        "    return x * y\n",
        "\n",
        "def divide(x, y):\n",
        "    if y == 0:\n",
        "        return \"Division by zero is undefined\"\n",
        "    return x / y\n",
        "\n",
        "def square(x):\n",
        "    return x ** 2\n",
        "\n",
        "def sqrt(x):\n",
        "    if x < 0:\n",
        "        return \"Square root of negative numbers is undefined\"\n",
        "    return x ** 0.5\n",
        "\n",
        "def power(x, y):\n",
        "    return x ** y\n",
        "\n",
        "# Test Functions\n",
        "def test_add():\n",
        "    results = add(1, 2)\n",
        "    assert results == 3, f\"Expected 3, got {results}\"\n",
        "\n",
        "def test_subtract():\n",
        "    results = subtract(10, 7)\n",
        "    assert results == 3, f\"Expected 3, got {results}\"\n",
        "\n",
        "def test_multiply():\n",
        "    results = multiply(2, 3)\n",
        "    assert results == 6, f\"Expected 6, got {results}\"\n",
        "\n",
        "def test_divide():\n",
        "    results = divide(6, 2)\n",
        "    assert results == 3, f\"Expected 3, got {results}\"\n",
        "\n",
        "def test_divide_by_zero():\n",
        "    results = divide(99, 0)\n",
        "    assert results == \"Division by zero is undefined\", f\"Expected error message, got {results}\"\n",
        "\n",
        "def test_square():\n",
        "    results = square(3)\n",
        "    assert results == 9, f\"Expected 9, got {results}\"\n",
        "\n",
        "def test_sqrt():\n",
        "    results = sqrt(9)\n",
        "    assert results == 3, f\"Expected 3, got {results}\"\n",
        "    results = sqrt(16)\n",
        "    assert results == 4, f\"Expected 4, got {results}\"\n",
        "\n",
        "def test_power():\n",
        "    results = power(3, 2)\n",
        "    assert results == 9, f\"Expected 9, got {results}\"\n",
        "    results = power(3, 3)\n",
        "    assert results == 27, f\"Expected 27, got {results}\"\n",
        "\n",
        "# Run Tests\n",
        "if __name__ == \"__main__\":\n",
        "    test_add()\n",
        "    test_subtract()\n",
        "    test_multiply()\n",
        "    test_divide()\n",
        "    test_divide_by_zero()\n",
        "    test_square()\n",
        "    test_sqrt()\n",
        "    test_power()\n",
        "    print(\"All tests passed!\")"
      ]
    }
  ]
}